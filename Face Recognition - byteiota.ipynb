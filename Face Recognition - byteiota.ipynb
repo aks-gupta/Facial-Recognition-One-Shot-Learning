{
 "cells": [
  {
   "cell_type": "code",
   "execution_count": 1,
   "id": "0b10cbb4",
   "metadata": {},
   "outputs": [
    {
     "name": "stdout",
     "output_type": "stream",
     "text": [
      "E:\\GlobalLogic\\face-recognition-python\n"
     ]
    }
   ],
   "source": [
    "cd face-recognition-python"
   ]
  },
  {
   "cell_type": "code",
   "execution_count": 18,
   "id": "1752a72e",
   "metadata": {},
   "outputs": [
    {
     "name": "stdout",
     "output_type": "stream",
     "text": [
      "[INFO] Found 2 Faces.\n",
      "[INFO] Object found. Saving locally.\n",
      "[INFO] Image faces_detected.jpg written to filesystem:  True\n"
     ]
    }
   ],
   "source": [
    "import cv2\n",
    "import sys\n",
    "name = \"akshita.jpg\"\n",
    "imagePath = \"./passports/\" + name\n",
    "\n",
    "image = cv2.imread(imagePath)\n",
    "gray = cv2.cvtColor(image, cv2.COLOR_BGR2GRAY)\n",
    "\n",
    "faceCascade = cv2.CascadeClassifier(cv2.data.haarcascades + \"haarcascade_frontalface_default.xml\")\n",
    "faces = faceCascade.detectMultiScale(\n",
    "    gray,\n",
    "    scaleFactor=1.3,\n",
    "    minNeighbors=3,\n",
    "    minSize=(30, 30)\n",
    ")\n",
    "\n",
    "print(\"[INFO] Found {0} Faces.\".format(len(faces)))\n",
    "\n",
    "for (x, y, w, h) in faces:\n",
    "    cv2.rectangle(image, (x, y), (x + w, y + h), (0, 255, 0), 2)\n",
    "    roi_color = image[y:y + h, x:x + w]\n",
    "    print(\"[INFO] Object found. Saving locally.\")\n",
    "    cv2.imwrite('faces/' + name, roi_color)\n",
    "    break\n",
    "\n",
    "status = cv2.imwrite('passport_faces/faces_detected.jpg', image)\n",
    "print(\"[INFO] Image faces_detected.jpg written to filesystem: \", status)"
   ]
  },
  {
   "cell_type": "code",
   "execution_count": 20,
   "id": "8a168875",
   "metadata": {},
   "outputs": [
    {
     "name": "stdout",
     "output_type": "stream",
     "text": [
      "Capturing from webcam\n",
      "['akshita']\n",
      "['akshita']\n",
      "['akshita']\n",
      "['akshita']\n",
      "['akshita']\n",
      "['akshita']\n",
      "['akshita']\n",
      "['akshita']\n",
      "['akshita']\n",
      "['akshita']\n",
      "['akshita']\n",
      "['akshita']\n",
      "['akshita']\n",
      "['akshita']\n",
      "['akshita']\n",
      "['akshita']\n",
      "['akshita']\n",
      "['akshita']\n",
      "['akshita']\n",
      "['akshita']\n",
      "['akshita']\n",
      "[]\n",
      "['akshita']\n",
      "['akshita']\n",
      "['akshita']\n",
      "['akshita']\n",
      "[]\n",
      "['akshita']\n",
      "['akshita']\n",
      "['akshita']\n",
      "['akshita']\n",
      "['akshita']\n",
      "['akshita']\n",
      "['akshita']\n",
      "['akshita']\n",
      "['akshita']\n",
      "[]\n",
      "['akshita']\n",
      "[]\n",
      "[]\n",
      "[]\n",
      "[]\n",
      "['akshita']\n",
      "[]\n",
      "[]\n",
      "[]\n"
     ]
    },
    {
     "name": "stderr",
     "output_type": "stream",
     "text": [
      "2022-11-01 13:03:05.400651: I tensorflow/stream_executor/platform/default/dso_loader.cc:49] Successfully opened dynamic library cudart64_110.dll\n",
      "2022-11-01 13:03:08.552613: I tensorflow/core/platform/cpu_feature_guard.cc:142] This TensorFlow binary is optimized with oneAPI Deep Neural Network Library (oneDNN) to use the following CPU instructions in performance-critical operations:  AVX2\n",
      "To enable them in other operations, rebuild TensorFlow with the appropriate compiler flags.\n",
      "2022-11-01 13:03:08.555554: W tensorflow/stream_executor/platform/default/dso_loader.cc:60] Could not load dynamic library 'nvcuda.dll'; dlerror: nvcuda.dll not found\n",
      "2022-11-01 13:03:08.555583: W tensorflow/stream_executor/cuda/cuda_driver.cc:326] failed call to cuInit: UNKNOWN ERROR (303)\n",
      "2022-11-01 13:03:08.561374: I tensorflow/stream_executor/cuda/cuda_diagnostics.cc:169] retrieving CUDA diagnostic information for host: DESKTOP-1JQ3FRU\n",
      "2022-11-01 13:03:08.561573: I tensorflow/stream_executor/cuda/cuda_diagnostics.cc:176] hostname: DESKTOP-1JQ3FRU\n",
      "2022-11-01 13:03:08.561597: I tensorflow/compiler/jit/xla_gpu_device.cc:99] Not creating XLA devices, tf_xla_enable_xla_devices not set\n",
      "C:\\Users\\akshi\\Anaconda3\\lib\\site-packages\\numpy\\_distributor_init.py:32: UserWarning: loaded more than 1 DLL from .libs:\n",
      "C:\\Users\\akshi\\Anaconda3\\lib\\site-packages\\numpy\\.libs\\libopenblas.NOIJJG62EMASZI6NYURL6JBKM4EVBGM7.gfortran-win_amd64.dll\n",
      "C:\\Users\\akshi\\Anaconda3\\lib\\site-packages\\numpy\\.libs\\libopenblas.PYQHXLVVQ7VESDPUVUADXEVJOBGHJPAY.gfortran-win_amd64.dll\n",
      "  stacklevel=1)\n",
      "WARNING:tensorflow:The saved meta_graph is possibly from an older release:\n",
      "'model_variables' collection should be of type 'byte_list', but instead is of type 'node_list'.\n",
      "WARNING:tensorflow:From C:\\Users\\akshi\\Anaconda3\\lib\\site-packages\\tensorflow\\python\\training\\queue_runner_impl.py:391: QueueRunner.__init__ (from tensorflow.python.training.queue_runner_impl) is deprecated and will be removed in a future version.\n",
      "Instructions for updating:\n",
      "To construct input pipelines, use the `tf.data` module.\n",
      "2022-11-01 13:03:10.853408: I tensorflow/compiler/mlir/mlir_graph_optimization_pass.cc:196] None of the MLIR optimization passes are enabled (registered 0 passes)\n",
      "[ WARN:0] global C:\\Users\\appveyor\\AppData\\Local\\Temp\\1\\pip-req-build-52oirelq\\opencv\\modules\\videoio\\src\\cap_msmf.cpp (435) `anonymous-namespace'::SourceReaderCB::~SourceReaderCB terminating async callback\n"
     ]
    }
   ],
   "source": [
    "#!python face_recognition.py --input input/Akshita.jpg --display-image\n",
    "!python face_recognition.py --display-image"
   ]
  },
  {
   "cell_type": "code",
   "execution_count": null,
   "id": "3f3b2b28",
   "metadata": {},
   "outputs": [],
   "source": []
  }
 ],
 "metadata": {
  "kernelspec": {
   "display_name": "venv",
   "language": "python",
   "name": "venv"
  },
  "language_info": {
   "codemirror_mode": {
    "name": "ipython",
    "version": 3
   },
   "file_extension": ".py",
   "mimetype": "text/x-python",
   "name": "python",
   "nbconvert_exporter": "python",
   "pygments_lexer": "ipython3",
   "version": "3.7.3"
  }
 },
 "nbformat": 4,
 "nbformat_minor": 5
}
